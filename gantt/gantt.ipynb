{
 "cells": [
  {
   "cell_type": "code",
   "execution_count": 14,
   "metadata": {},
   "outputs": [
    {
     "name": "stdout",
     "output_type": "stream",
     "text": [
      "0     3\n",
      "1     8\n",
      "2    22\n",
      "3    36\n",
      "4    54\n",
      "Name: Quantidade, dtype: int64\n"
     ]
    },
    {
     "data": {
      "image/png": "[encoded data removed]",
      "text/plain": [
       "<Figure size 640x480 with 1 Axes>"
      ]
     },
     "metadata": {},
     "output_type": "display_data"
    },
    {
     "data": {
      "text/html": [
       "<div>\n",
       "<style scoped>\n",
       "    .dataframe tbody tr th:only-of-type {\n",
       "        vertical-align: middle;\n",
       "    }\n",
       "\n",
       "    .dataframe tbody tr th {\n",
       "        vertical-align: top;\n",
       "    }\n",
       "\n",
       "    .dataframe thead th {\n",
       "        text-align: right;\n",
       "    }\n",
       "</style>\n",
       "<table border=\"1\" class=\"dataframe\">\n",
       "  <thead>\n",
       "    <tr style=\"text-align: right;\">\n",
       "      <th></th>\n",
       "      <th>id_processo</th>\n",
       "      <th>tempo_chegada</th>\n",
       "      <th>tempo_cpu</th>\n",
       "      <th>prioridade</th>\n",
       "    </tr>\n",
       "  </thead>\n",
       "  <tbody>\n",
       "    <tr>\n",
       "      <th>0</th>\n",
       "      <td>1</td>\n",
       "      <td>0</td>\n",
       "      <td>17</td>\n",
       "      <td>3</td>\n",
       "    </tr>\n",
       "    <tr>\n",
       "      <th>1</th>\n",
       "      <td>2</td>\n",
       "      <td>4</td>\n",
       "      <td>14</td>\n",
       "      <td>4</td>\n",
       "    </tr>\n",
       "    <tr>\n",
       "      <th>2</th>\n",
       "      <td>3</td>\n",
       "      <td>3</td>\n",
       "      <td>5</td>\n",
       "      <td>2</td>\n",
       "    </tr>\n",
       "    <tr>\n",
       "      <th>3</th>\n",
       "      <td>4</td>\n",
       "      <td>0</td>\n",
       "      <td>18</td>\n",
       "      <td>5</td>\n",
       "    </tr>\n",
       "  </tbody>\n",
       "</table>\n",
       "</div>"
      ],
      "text/plain": [
       "   id_processo  tempo_chegada  tempo_cpu  prioridade\n",
       "0            1              0         17           3\n",
       "1            2              4         14           4\n",
       "2            3              3          5           2\n",
       "3            4              0         18           5"
      ]
     },
     "execution_count": 14,
     "metadata": {},
     "output_type": "execute_result"
    }
   ],
   "source": [
    "import pandas as pd\n",
    "import ast\n",
    "import matplotlib.pyplot as plt\n",
    "\n",
    "arquivo = open(\"preemptivo_sjf.txt\", \"r\")\n",
    "\n",
    "conteudo = arquivo.read()\n",
    "\n",
    "arquivo.close()\n",
    "\n",
    "dados = ast.literal_eval(conteudo)\n",
    "\n",
    "dataset = pd.DataFrame(dados, columns=[\"ID\", \"Quantidade\"])\n",
    "print(dataset[\"Quantidade\"])\n",
    "dataset[\"Start\"] = dataset[\"Quantidade\"].cumsum() - dataset[\"Quantidade\"]\n",
    "\n",
    "fig, ax = plt.subplots()\n",
    "\n",
    "ax.set_xlabel(\"Tempo\")\n",
    "ax.set_ylabel(\"Tarefa\")\n",
    "ax.set_ylim(0.5, len(dataset) + 0.5)\n",
    "ax.set_yticks(dataset[\"ID\"])\n",
    "ax.set_yticklabels(dataset[\"ID\"])\n",
    "\n",
    "for i, row in dataset.iterrows():\n",
    "    start = row[\"Start\"]\n",
    "    duration = row[\"Quantidade\"]\n",
    "    ax.barh(row[\"ID\"], duration, left=start, height=0.8, align='center')\n",
    "\n",
    "plt.title(\"Gráfico Gantt\")\n",
    "plt.grid(axis='x')\n",
    "plt.show()\n",
    "\n",
    "dataSet = pd.read_csv('./../csv/processos.csv')\n",
    "dataSet"
   ]
  }
 ],
 "metadata": {
  "kernelspec": {
   "display_name": "Python 3",
   "language": "python",
   "name": "python3"
  },
  "language_info": {
   "codemirror_mode": {
    "name": "ipython",
    "version": 3
   },
   "file_extension": ".py",
   "mimetype": "text/x-python",
   "name": "python",
   "nbconvert_exporter": "python",
   "pygments_lexer": "ipython3",
   "version": "3.10.6"
  },
  "orig_nbformat": 4
 },
 "nbformat": 4,
 "nbformat_minor": 2
}
