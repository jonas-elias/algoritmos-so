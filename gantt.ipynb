{
 "cells": [
  {
   "cell_type": "code",
   "execution_count": 6,
   "metadata": {},
   "outputs": [
    {
     "data": {
      "text/plain": [
       "'[(1, 1), (2, 1), (1, 3), (5, 5), (1, 6), (3, 2), (4, 1)]'"
      ]
     },
     "execution_count": 6,
     "metadata": {},
     "output_type": "execute_result"
    }
   ],
   "source": [
    "import pandas as pd\n",
    "import ast\n",
    "import matplotlib.pyplot as plt\n",
    "\n",
    "arquivo = open(\"preemptivo_prioridade.txt\", \"r\")\n",
    "\n",
    "conteudo = arquivo.read()\n",
    "\n",
    "arquivo.close()\n",
    "\n",
    "dados = ast.literal_eval(conteudo)\n",
    "dados\n",
    "\n",
    "\n",
    "# dataset = pd.DataFrame(dados, columns=[\"ID\", \"Quantidade\"])\n",
    "# dataset[\"Start\"] = dataset[\"Quantidade\"].cumsum() - dataset[\"Quantidade\"]\n",
    "\n",
    "# fig, ax = plt.subplots()\n",
    "\n",
    "# ax.set_xlabel(\"Tempo\")\n",
    "# ax.set_ylabel(\"Tarefa\")\n",
    "# ax.set_ylim(0.5, len(dataset) + 0.5)\n",
    "# ax.set_yticks(dataset[\"ID\"])\n",
    "# ax.set_yticklabels(dataset[\"ID\"])\n",
    "\n",
    "# for i, row in dataset.iterrows():\n",
    "#     start = row[\"Start\"]\n",
    "#     duration = row[\"Quantidade\"]\n",
    "#     ax.barh(row[\"ID\"], duration, left=start, height=0.8, align='center')\n",
    "\n",
    "# plt.title(\"Gráfico Gantt\")\n",
    "# plt.grid(axis='x')\n",
    "# plt.show()"
   ]
  }
 ],
 "metadata": {
  "kernelspec": {
   "display_name": "Python 3",
   "language": "python",
   "name": "python3"
  },
  "language_info": {
   "codemirror_mode": {
    "name": "ipython",
    "version": 3
   },
   "file_extension": ".py",
   "mimetype": "text/x-python",
   "name": "python",
   "nbconvert_exporter": "python",
   "pygments_lexer": "ipython3",
   "version": "3.10.6"
  },
  "orig_nbformat": 4
 },
 "nbformat": 4,
 "nbformat_minor": 2
}
